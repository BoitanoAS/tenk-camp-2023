{
 "cells": [
  {
   "cell_type": "markdown",
   "id": "6fb6f09c",
   "metadata": {},
   "source": [
    "# DEL 1 - Introduksjon til Python"
   ]
  },
  {
   "cell_type": "markdown",
   "id": "238fd89d",
   "metadata": {},
   "source": [
    "### Data Typer og variabler"
   ]
  },
  {
   "cell_type": "markdown",
   "id": "045b19bd",
   "metadata": {},
   "source": [
    "#### Oppgave 1: Skriv ut en melding"
   ]
  },
  {
   "cell_type": "markdown",
   "id": "4cc23b99",
   "metadata": {},
   "source": [
    "Vi kan bruke `print` for å skrive ut meldinger til konsollen. Klikk på ruten under og trykk `Run`."
   ]
  },
  {
   "cell_type": "code",
   "execution_count": null,
   "id": "675a31ea",
   "metadata": {},
   "outputs": [],
   "source": [
    "print('Velkommen til workshop med Boitano')"
   ]
  },
  {
   "cell_type": "markdown",
   "id": "7763617d",
   "metadata": {},
   "source": [
    "#### Oppgave 2: Lag variabler og finn riktig data type "
   ]
  },
  {
   "cell_type": "markdown",
   "id": "bcba7974",
   "metadata": {},
   "source": [
    "Data typer sier noe om hva slags data vi skal lagre. Når vi lagrer bokstaver og ord må disse være i fnutter `''` og kalles en `string`. Vi kan også lagre heltall `int` og desimaltall `float`. I tillegg har vi `bool` verdier. Disse er enten `True` eller `False`.  "
   ]
  },
  {
   "cell_type": "code",
   "execution_count": null,
   "id": "77a0ac92",
   "metadata": {},
   "outputs": [],
   "source": [
    "heltall = 2 \n",
    "desimaltall = 2.5 \n",
    "tekst = 'Dette er en tekst'\n",
    "boolean = True"
   ]
  },
  {
   "cell_type": "markdown",
   "id": "2428b8a4",
   "metadata": {},
   "source": [
    "Vi bruker variabler for å lagre data. En variabel er noe som varierer, for eksempel navn og alder.\n",
    "\n",
    "*Lag en variabel `navn` og `alder` og print de ut til konsollen. Hvilken datatype burde disse ha?*"
   ]
  },
  {
   "cell_type": "code",
   "execution_count": null,
   "id": "4624c445",
   "metadata": {},
   "outputs": [],
   "source": [
    "navn = 'Julie'\n",
    "alder = 27\n",
    "\n",
    "print(navn)\n",
    "print(alder)"
   ]
  },
  {
   "cell_type": "markdown",
   "id": "eba4e7a8",
   "metadata": {},
   "source": [
    "#### Oppgave 3: Lag en dictionary som består av navn og alder"
   ]
  },
  {
   "cell_type": "markdown",
   "id": "d9709464",
   "metadata": {},
   "source": [
    "Vi kan sette sammen flere data typer for å lage en `dictionary`. For eksempel kan vi ha en `bedrift` som har både et navn og et kontor. "
   ]
  },
  {
   "cell_type": "code",
   "execution_count": null,
   "id": "6ff5a3f3",
   "metadata": {},
   "outputs": [],
   "source": [
    "bedrift = {\n",
    "    \"navn\": \"Boitano\",\n",
    "    \"kontor\": \"Stavanger\" \n",
    "}\n",
    "\n",
    "print(bedrift)"
   ]
  },
  {
   "cell_type": "markdown",
   "id": "423a9a8e",
   "metadata": {},
   "source": [
    "*Lag en dictionary som heter `person` og inneholder informasjon om ditt navn, alder og skole. Print person til konsollen*"
   ]
  },
  {
   "cell_type": "code",
   "execution_count": null,
   "id": "2e95ed9d",
   "metadata": {},
   "outputs": [],
   "source": [
    "# Skriv koden din her "
   ]
  },
  {
   "cell_type": "markdown",
   "id": "7019c650",
   "metadata": {},
   "source": [
    "#### Oppgave 3: Regn med variabler"
   ]
  },
  {
   "cell_type": "markdown",
   "id": "684e3946",
   "metadata": {},
   "source": [
    "Når vi har flere variabler, kan vi gjøre ulike operasjoner på de. For eksempel legge de sammen, trekke de fra hverandre, multiplisere og dele. Bruk variablene `x` og `y` til å fylle ut trykkene under "
   ]
  },
  {
   "cell_type": "code",
   "execution_count": null,
   "id": "0871f41e",
   "metadata": {},
   "outputs": [],
   "source": [
    "x = 2\n",
    "y = 3\n",
    "\n",
    "sum = \n",
    "differanse = \n",
    "produkt = \n",
    "kvotient = \n",
    "\n",
    "print(f'Summen av {x} og {y}: {sum}')\n",
    "print(f'Differansen av {x} og {y}: {differanse}')\n",
    "print(f'Produktet av {x} og {y}: {produkt}')\n",
    "print(f'Kvotien av {x} og {y}: {kvotient}')"
   ]
  },
  {
   "cell_type": "markdown",
   "id": "0da73991",
   "metadata": {},
   "source": [
    "#### Oppgave 4: Lag en liste"
   ]
  },
  {
   "cell_type": "markdown",
   "id": "d11330a1",
   "metadata": {},
   "source": [
    "Vi kan også lage en liste med data. Dette gjør vi med å bruke klammeparanteser `frukt = ['epler', 'pærer', 'banan']`.\\\n",
    "Lag en liste med navn og print den under. "
   ]
  },
  {
   "cell_type": "code",
   "execution_count": null,
   "id": "3cdd7bd0",
   "metadata": {},
   "outputs": [],
   "source": [
    "# Skriv koden din her "
   ]
  },
  {
   "cell_type": "markdown",
   "id": "baa41113",
   "metadata": {},
   "source": [
    "### Løkker og betingelser "
   ]
  },
  {
   "cell_type": "markdown",
   "id": "7af2ad08",
   "metadata": {},
   "source": [
    "En `for`-løkke gjør noe om og om igjen. Hvis vi har en liste med tall kan vi for eksempel printe alle tallene i lista.\n",
    "\n",
    "#### Oppgave 5: Print alle tallene i lista"
   ]
  },
  {
   "cell_type": "code",
   "execution_count": null,
   "id": "6c1b3c57",
   "metadata": {},
   "outputs": [],
   "source": [
    "tall_liste = [54, 23, 5, 98, 34, 66, 17, 93, 9, 30]\n",
    "\n",
    "for tall in tall_liste: \n",
    "    print(tall)"
   ]
  },
  {
   "cell_type": "markdown",
   "id": "413712c5",
   "metadata": {},
   "source": [
    "En betingelse betyr at datamaskinen gjør en handling dersom en betingelse er oppfylt. Du kan tenke på det som en \"hvis-ellers\" logikk.\n",
    "\n",
    "*Før du kjører denne koden, hva tror du blir printet ut? Endre på x og y og test flere situasjoner.* "
   ]
  },
  {
   "cell_type": "code",
   "execution_count": null,
   "id": "f1357378",
   "metadata": {},
   "outputs": [],
   "source": [
    "x = 8\n",
    "y = 18\n",
    "\n",
    "if x > y:\n",
    "    print(f'{x} er større enn {y}')\n",
    "elif x < y:\n",
    "    print(f'{x} er mindre enn {y}')\n",
    "else:\n",
    "    print(f'{x} er lik {y}')"
   ]
  },
  {
   "cell_type": "markdown",
   "id": "4351c227",
   "metadata": {},
   "source": [
    "#### Oppgave 6: Print alle tallene som er større enn 50 i `tall_liste` \n",
    "\n",
    "Vi skal prøve å finne alle tallene fra oppgave 5 som er større en 50. Bruk det du lærte om if betingelser til å printe ut alle tall over 50 fra `tall_liste`. "
   ]
  },
  {
   "cell_type": "code",
   "execution_count": null,
   "id": "9b1371f6",
   "metadata": {},
   "outputs": [],
   "source": [
    "for tall in tall_liste: \n",
    "    # Skriv koden din her \n",
    "    "
   ]
  },
  {
   "cell_type": "markdown",
   "id": "58b2acb8",
   "metadata": {},
   "source": [
    "#### Oppgave 7: While løkker\n",
    "\n",
    "Vi kan også bruke en `while` løkke. Denne utfører en handling så lenge noe er sant. \n",
    "\n",
    "*Hva skjer når du kjører koden under? Hvor mange rader tror du blir printet ut?* "
   ]
  },
  {
   "cell_type": "code",
   "execution_count": null,
   "id": "67ee4e88",
   "metadata": {},
   "outputs": [],
   "source": [
    "tall = 7\n",
    "teller = 1\n",
    "\n",
    "while teller <= 10:\n",
    "    produkt = tall * teller\n",
    "    print(f\"{tall} * {teller} = {produkt}\")\n",
    "    teller += 1\n",
    "\n"
   ]
  },
  {
   "cell_type": "markdown",
   "id": "9ddd06c9",
   "metadata": {},
   "source": [
    "# DEL 2 - Lag din egen chat"
   ]
  },
  {
   "cell_type": "markdown",
   "id": "6111f4cc",
   "metadata": {},
   "source": [
    "TODO: Finn ut hva av dette som blir relevant. \n",
    "\n",
    "\n",
    "Når datamaskiner snakker med hverandre kaller vi det klient server kommunikasjon. \n",
    "\n",
    "En **klient** er den som spør om informasjon. For eksemepel en app eller nettleser\\\n",
    "En **server** er datamaskinen som leverer informasjonen.  \n",
    "\n",
    "Når disse datamaskinene snakker sammen bruker de et språk som heter **HTTP**. "
   ]
  },
  {
   "cell_type": "markdown",
   "id": "ea4a2396",
   "metadata": {},
   "source": [
    "#### Oppgave 8: Send en melding med HTTP"
   ]
  },
  {
   "cell_type": "markdown",
   "id": "20380b85",
   "metadata": {},
   "source": [
    "I neste del skal vi lage en HTTP-klient som kan spørre en server om informasjon. "
   ]
  },
  {
   "cell_type": "code",
   "execution_count": null,
   "id": "4061d75c",
   "metadata": {},
   "outputs": [],
   "source": [
    "Todo: \n",
    "    \n",
    "Lag variabel med url og send melding "
   ]
  },
  {
   "cell_type": "code",
   "execution_count": null,
   "id": "9e7ab833",
   "metadata": {},
   "outputs": [],
   "source": [
    "import requests\n",
    "url = \"https://tenk-server.fly.dev/\"\n",
    "\n",
    "response = requests.get(url)\n",
    "for item in response.json():\n",
    "    print(item)"
   ]
  },
  {
   "cell_type": "markdown",
   "id": "8020fc0e",
   "metadata": {},
   "source": [
    "Nå skal vi sende en melding til denne serveren "
   ]
  },
  {
   "cell_type": "code",
   "execution_count": null,
   "id": "5acc4535",
   "metadata": {},
   "outputs": [],
   "source": [
    "import requests\n",
    "url = \"https://tenk-server.fly.dev/\"\n",
    "\n",
    "navn = \"Python\"\n",
    "beskjed = \"Notebook\" \n",
    "\n",
    "data = {\n",
    "    \"name\": navn,\n",
    "    \"text\": beskjed\n",
    "}\n",
    "\n",
    "response = requests.post(url, data=data)\n",
    "print(\"Melding sendt!\")"
   ]
  },
  {
   "cell_type": "markdown",
   "id": "ffc50d9d",
   "metadata": {},
   "source": [
    "Kan du se meldingen din på skjermen? "
   ]
  },
  {
   "cell_type": "markdown",
   "id": "9a55d785",
   "metadata": {},
   "source": [
    "#### Oppgave 9: Chat client"
   ]
  },
  {
   "cell_type": "markdown",
   "id": "5d150e68",
   "metadata": {},
   "source": [
    "Hvis vi skal lage en chat er det viktig at vi får opp meldingen med en gang. \n",
    "Istedet for å spørre serveren om den har fått informasjon slik vi gjorde i forrige oppgave, kan vi si at hver gang den får en ny melding informasjon, skal den gi beskjed til oss. \n",
    "\n",
    "Kjør koden under å se om du får noen meldinger"
   ]
  },
  {
   "cell_type": "code",
   "execution_count": 1,
   "id": "a14e2f88",
   "metadata": {},
   "outputs": [
    {
     "name": "stdout",
     "output_type": "stream",
     "text": [
      "Jeg er koblet til!\n",
      "Vi får data fra serveren!\n",
      "{'name': 'Gaute', 'text': 'Velkommen til Tenk', 'time': '2023-06-12T14:04:54.364Z'}\n",
      "{'name': 'Gaute', 'text': 'God dag', 'time': '2023-06-12T14:05:00.535Z'}\n",
      "{'name': 'maureen', 'text': 'test', 'time': '2023-07-11T12:17:17.620Z'}\n",
      "{'name': 'm', 'text': 'test', 'time': '2023-07-11T12:17:37.924Z'}\n",
      "{'name': 'Julie', 'text': 'test', 'time': '2023-07-11T12:19:39.356Z'}\n",
      "{'name': 'fweff', 'text': 'wefwfe', 'time': '2023-07-11T12:19:59.503Z'}\n",
      "{'name': 'fweff', 'text': 'ff3', 'time': '2023-07-11T12:20:34.400Z'}\n",
      "{'name': 'test', 'text': 'test2', 'time': '2023-07-11T12:54:54.835Z'}\n",
      "{'name': 'Julie', 'text': 'Hei', 'time': '2023-07-12T06:14:04.092Z'}\n",
      "{'name': 'Python', 'text': 'Notebook', 'time': '2023-07-12T06:28:09.186Z'}\n",
      "{'name': 'Python', 'text': 'Notebook', 'time': '2023-07-12T08:30:02.584Z'}\n",
      "{'name': 'Python', 'text': 'Notebook', 'time': '2023-07-12T08:33:07.249Z'}\n",
      "{'name': 'FYLL INN NAVN', 'text': 'Dette er en test', 'time': '2023-07-12T08:37:42.564Z'}\n",
      "{'name': 'FYLL INN NAVN', 'text': 'hei', 'time': '2023-07-12T08:44:44.867Z'}\n",
      "{'name': 'FYLL INN NAVN', 'text': 'test', 'time': '2023-07-12T08:45:47.325Z'}\n",
      "{'name': 'FYLL INN NAVN', 'text': 'melding', 'time': '2023-07-12T08:48:42.713Z'}\n",
      "{'name': 'Python', 'text': 'Notebook', 'time': '2023-07-12T08:50:51.697Z'}\n",
      "{'name': 'Python', 'text': 'Notebook', 'time': '2023-07-12T08:52:13.652Z'}\n",
      "{'name': 'FYLL INN NAVN', 'text': 'hei', 'time': '2023-07-12T08:56:26.422Z'}\n",
      "{'name': 'FYLL INN NAVN', 'text': 'hei', 'time': '2023-07-12T08:56:36.365Z'}\n",
      "{'name': 'FYLL INN NAVN', 'text': 'hei', 'time': '2023-07-12T08:59:29.815Z'}\n",
      "{'name': 'FYLL INN NAVN', 'text': 'he', 'time': '2023-07-12T08:59:34.138Z'}\n",
      "{'name': 'FYLL INN NAVN', 'text': 'de', 'time': '2023-07-12T08:59:35.037Z'}\n",
      "{'name': 'FYLL INN NAVN', 'text': 'dwefewf', 'time': '2023-07-12T08:59:36.636Z'}\n",
      "{'name': 'FYLL INN NAVN', 'text': 'few', 'time': '2023-07-12T08:59:37.424Z'}\n",
      "{'name': 'FYLL INN NAVN', 'text': 'few', 'time': '2023-07-12T08:59:38.273Z'}\n",
      "{'name': 'FYLL INN NAVN', 'text': 'jei', 'time': '2023-07-12T09:02:25.565Z'}\n",
      "{'name': 'FYLL INN NAVN', 'text': 'fewf', 'time': '2023-07-12T09:02:28.622Z'}\n",
      "{'name': 'FYLL INN NAVN', 'text': 'efw', 'time': '2023-07-12T09:02:30.098Z'}\n",
      "{'name': '*******', 'text': 'fewffe', 'time': '2023-07-12T10:33:23.774Z'}\n",
      "{'name': 'Julie', 'text': 'ny', 'time': '2023-07-12T10:33:52.676Z'}\n",
      "{'name': 'Julie', 'text': 'ny', 'time': '2023-07-12T10:36:06.002Z'}\n",
      "{'name': 'Python', 'text': 'Notebook', 'time': '2023-07-12T17:46:19.649Z'}\n",
      "{'name': 'Python', 'text': 'Notebook', 'time': '2023-07-12T17:49:54.494Z'}\n",
      "{'name': 'hei', 'text': 'test', 'time': '2023-07-12T18:05:48.312Z'}\n",
      "{'name': 'hei', 'text': 'test', 'time': '2023-07-12T18:10:01.423Z'}\n",
      "{'name': 'FYLL INN NAVN', 'text': 'hei', 'time': '2023-07-12T18:10:45.473Z'}\n",
      "{'name': 'FYLL INN NAVN', 'text': 'effewf', 'time': '2023-07-12T18:10:56.212Z'}\n",
      "{'name': 'hei', 'text': 'test', 'time': '2023-07-12T18:12:17.242Z'}\n"
     ]
    }
   ],
   "source": [
    "import socketio\n",
    "sio = socketio.Client()\n",
    "\n",
    "url = \"https://tenk-server.fly.dev/\"\n",
    "\n",
    "@sio.on('messages')\n",
    "def on_message(data):\n",
    "    print(\"Vi får data fra serveren!\")\n",
    "    for event in data: \n",
    "        print(event)\n",
    "        \n",
    "@sio.event\n",
    "def connect():\n",
    "    print(\"Jeg er koblet til!\")\n",
    "    \n",
    "@sio.on('message')\n",
    "def on_message(data):\n",
    "    print(data)\n",
    "    \n",
    "\n",
    "sio.connect(url)\n",
    "sio.emit('newMessage', {'name': \"hei\", 'text': \"test\"})\n",
    "# Keep the connection open and wait for events\n",
    "\n",
    "\n",
    "\n",
    "\n",
    "\n",
    "\n",
    "    "
   ]
  },
  {
   "cell_type": "markdown",
   "id": "dce61930",
   "metadata": {},
   "source": [
    "Du kan også sende meldinger, du vil se at de dukker opp på skjermen og i din egen notebook. I tillegg vil du kunne lese alle de andre meldingene. "
   ]
  },
  {
   "cell_type": "code",
   "execution_count": null,
   "id": "3d1651f5",
   "metadata": {},
   "outputs": [],
   "source": [
    "import socketio\n",
    "import time\n",
    "\n",
    "\n",
    "name = \"FYLL INN NAVN\"\n",
    "\n",
    "\n",
    "sioClient = socketio.Client()\n",
    "\n",
    "\n",
    "@sioClient.event\n",
    "def connect():\n",
    "    print(\"Jeg er koblet til!\")\n",
    "\n",
    "sioClient.connect(\"https://tenk-server.fly.dev/\")\n",
    "while True:\n",
    "    user_input = input(\"Skriv inn en melding (skriv exit for å avslutte): \")\n",
    "    if user_input.lower() == \"exit\":\n",
    "        break\n",
    "    else:\n",
    "        sioClient.emit('newMessage', {'name': name, 'text': user_input})\n",
    "sioClient.disconnect()\n",
    "sio.disconnect()\n",
    "\n"
   ]
  },
  {
   "cell_type": "markdown",
   "id": "ebb0d10f",
   "metadata": {},
   "source": [
    "### Kryptering "
   ]
  },
  {
   "cell_type": "markdown",
   "id": "1861ff1e",
   "metadata": {},
   "source": [
    "Når vi sender meldinger på internett vil vi ikke at hvem som helst skal kunne lese de. Da kan vi kryptere meldingen slik at kun den som har dekypteringsnøkkelen kan tyde innholdet. La oss teste! "
   ]
  },
  {
   "cell_type": "markdown",
   "id": "20f76e37",
   "metadata": {},
   "source": [
    "#### Oppgave 9: Test ut kryptering og dekryptering i boksene under"
   ]
  },
  {
   "cell_type": "code",
   "execution_count": null,
   "id": "c9d06cc8",
   "metadata": {},
   "outputs": [],
   "source": [
    "from kryptering import *\n",
    "\n",
    "# Sett inn en tekst\n",
    "kryptert_tekst = krypter()\n",
    "\n",
    "print(kryptert_tekst)"
   ]
  },
  {
   "cell_type": "markdown",
   "id": "9cef1546",
   "metadata": {},
   "source": [
    "Du kan dekryptere koden ved å putte teksten inn i `dekrypter` funksjonen."
   ]
  },
  {
   "cell_type": "code",
   "execution_count": null,
   "id": "2f9cc33f",
   "metadata": {},
   "outputs": [],
   "source": [
    "# sett inn den krypterte teksten i parantesene under. Husk hvilken data type vi bruker. \n",
    "\n",
    "print(dekrypter())"
   ]
  },
  {
   "cell_type": "markdown",
   "id": "97c967cb",
   "metadata": {},
   "source": [
    "#### Oppgave 10: Test forksjellige krypteringsmetoder"
   ]
  },
  {
   "cell_type": "markdown",
   "id": "0750de42",
   "metadata": {},
   "source": [
    "Vi har laget noen forskjellige måter å kryptere på. Test de ulike funksjonene i boksen under. "
   ]
  },
  {
   "cell_type": "code",
   "execution_count": null,
   "id": "c61e7c35",
   "metadata": {},
   "outputs": [],
   "source": [
    "print(base64_kryptering('Boitano'))\n",
    "print(baklengs_kryptering('TENK tech camp'))\n",
    "print(krypter('Python er kult'))"
   ]
  },
  {
   "cell_type": "markdown",
   "id": "18b72597",
   "metadata": {},
   "source": [
    "Disse kan du dekyptere igjen ved å putte de inn i de tilhørende dekrypteringsfunksjonene"
   ]
  },
  {
   "cell_type": "code",
   "execution_count": null,
   "id": "db9b450c",
   "metadata": {},
   "outputs": [],
   "source": [
    "print(base64_dekryptering())\n",
    "print(baklengs_dekryptering())\n",
    "print(dekrypter())"
   ]
  },
  {
   "cell_type": "markdown",
   "id": "b7683f3e",
   "metadata": {},
   "source": [
    "#### Oppgave 11: Send en kryptert til serveren, du velger selv hvordan du vil kryptere den  "
   ]
  },
  {
   "cell_type": "markdown",
   "id": "616907a6",
   "metadata": {},
   "source": [
    "Bruk funksjonene fra forrige oppgave og send en kryptert melding"
   ]
  },
  {
   "cell_type": "code",
   "execution_count": null,
   "id": "4b9fe7f0",
   "metadata": {},
   "outputs": [],
   "source": [
    "# Skriv koden her "
   ]
  },
  {
   "cell_type": "markdown",
   "id": "cf5303da",
   "metadata": {},
   "source": [
    "#### Oppgave 12: Lytt på andre meldinger \n",
    "\n",
    "Nå skal vi koble oss på chatten, slik at vi mottar alle meldingene som blir sendt. \n",
    "\n"
   ]
  },
  {
   "cell_type": "code",
   "execution_count": null,
   "id": "f4158a3a",
   "metadata": {},
   "outputs": [],
   "source": [
    "# Todo: Websocket "
   ]
  },
  {
   "cell_type": "markdown",
   "id": "abae1278",
   "metadata": {},
   "source": [
    "#### Oppgave 13: Dekypter meldingene \n",
    "\n",
    "Er noen av meldingen du får kryptert? Bruk funksjonene fra oppgave 10 for å se innholdet. Det kan hende at du må prøve flere ganger. \n"
   ]
  },
  {
   "cell_type": "code",
   "execution_count": null,
   "id": "f0a11fbd",
   "metadata": {},
   "outputs": [],
   "source": [
    "# Putt inn meldingene i forrige oppgave i dekrypteringsfunksjonene. "
   ]
  },
  {
   "cell_type": "markdown",
   "id": "34c72396",
   "metadata": {},
   "source": [
    "#### Oppgave 14: TODO: Løs den hemmelige Boitano koden.... "
   ]
  },
  {
   "cell_type": "markdown",
   "id": "5f72af12",
   "metadata": {},
   "source": [
    "Det er noen i Boitano som prøver å sende deg en hemmelig beskjed, men vil ikke at noen andre skal se innholdet. \n",
    "\n",
    "Filtrer meldingene slik at du kun mottar meldinger fra Boitano. \n",
    "\n",
    "Hint: Bruk en if-blokk som vi lærte om i Del 1. \n",
    "\n",
    "Deretter må du dekryptere meldingen. Meldingen gir deg et hint om veien videre. "
   ]
  },
  {
   "cell_type": "code",
   "execution_count": null,
   "id": "dcaa0436",
   "metadata": {},
   "outputs": [],
   "source": [
    "import asyncio\n",
    "import websockets\n",
    "import nest_asyncio\n",
    "nest_asyncio.apply()\n",
    "__import__('IPython').embed()\n",
    " \n",
    "async def test():\n",
    "    async with websockets.connect('wss://demo.piesocket.com/v3/channel_1?api_key=YOUR_API_KEY') as websocket:\n",
    "        await websocket.send(\"hello\")\n",
    "        response = await websocket.recv()\n",
    "        print(response)\n",
    " \n",
    "asyncio.get_event_loop().run_until_complete(test())"
   ]
  },
  {
   "cell_type": "code",
   "execution_count": null,
   "id": "a461748c",
   "metadata": {},
   "outputs": [],
   "source": []
  }
 ],
 "metadata": {
  "kernelspec": {
   "display_name": "Python 3 (ipykernel)",
   "language": "python",
   "name": "python3"
  },
  "language_info": {
   "codemirror_mode": {
    "name": "ipython",
    "version": 3
   },
   "file_extension": ".py",
   "mimetype": "text/x-python",
   "name": "python",
   "nbconvert_exporter": "python",
   "pygments_lexer": "ipython3",
   "version": "3.9.6"
  },
  "vscode": {
   "interpreter": {
    "hash": "31f2aee4e71d21fbe5cf8b01ff0e069b9275f58929596ceb00d14d90e3e16cd6"
   }
  }
 },
 "nbformat": 4,
 "nbformat_minor": 5
}
